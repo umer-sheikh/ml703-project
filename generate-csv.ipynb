{
 "cells": [
  {
   "cell_type": "code",
   "execution_count": 2,
   "metadata": {},
   "outputs": [
    {
     "name": "stdout",
     "output_type": "stream",
     "text": [
      "CSV file has been created at augmented.csv\n"
     ]
    }
   ],
   "source": [
    "import os\n",
    "import csv\n",
    "\n",
    "# Set the root directory where your folders are located\n",
    "root_dir = './dataset/pt_files/augmented'\n",
    "\n",
    "# CSV file path\n",
    "csv_file_path = 'augmented.csv'\n",
    "\n",
    "# Prepare to write to a CSV file\n",
    "with open(csv_file_path, mode='w', newline='') as file:\n",
    "    writer = csv.writer(file)\n",
    "    # Writing the header\n",
    "    writer.writerow(['Label_Name', 'filename_pt'])\n",
    "    \n",
    "    # Walk through the directory\n",
    "    for root, dirs, files in os.walk(root_dir):\n",
    "        for filename in files:\n",
    "            if filename.endswith('.pt'):\n",
    "                # Extract folder name as label\n",
    "                label_name = os.path.basename(root)\n",
    "                filepath = label_name + \"/\" + filename\n",
    "                # Write the folder name and file name to the CSV\n",
    "                writer.writerow([label_name, filepath])\n",
    "\n",
    "print(f\"CSV file has been created at {csv_file_path}\")\n"
   ]
  }
 ],
 "metadata": {
  "kernelspec": {
   "display_name": "birdclef",
   "language": "python",
   "name": "python3"
  },
  "language_info": {
   "codemirror_mode": {
    "name": "ipython",
    "version": 3
   },
   "file_extension": ".py",
   "mimetype": "text/x-python",
   "name": "python",
   "nbconvert_exporter": "python",
   "pygments_lexer": "ipython3",
   "version": "3.8.8"
  },
  "orig_nbformat": 4
 },
 "nbformat": 4,
 "nbformat_minor": 2
}
